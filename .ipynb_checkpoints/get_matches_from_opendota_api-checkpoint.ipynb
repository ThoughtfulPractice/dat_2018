{
 "cells": [
  {
   "cell_type": "code",
   "execution_count": 1,
   "metadata": {},
   "outputs": [],
   "source": [
    "import requests\n",
    "import pandas as pd\n",
    "import numpy as np\n",
    "import json\n",
    "import time\n",
    "\n",
    "# Some pages that help explain what the responses mean\n",
    "# https://github.com/odota/web/blob/master/src/lang/en-US.json\n",
    "# https://github.com/karigunnarsson/midMatchup/blob/master/getGames.R\n",
    "\n",
    "# Based on expriments, it seems that pos_log records the position of players\n",
    "# the first number is either X/Y axis, then X/Y axis, then probably the \n",
    "# total number of periods that the player spent on that square.\n",
    "# Doesn't seem to have timing information associated with this.\n",
    "# Each period seems to be around 3 seconds. Can do heatmap ba."
   ]
  },
  {
   "cell_type": "markdown",
   "metadata": {},
   "source": [
    "# Get data from opendota"
   ]
  },
  {
   "cell_type": "code",
   "execution_count": 3,
   "metadata": {},
   "outputs": [],
   "source": [
    "# Load TI8 match ids\n",
    "ti8_matches = pd.read_csv(\"data/match_ids.csv\")\n",
    "match_ids = ti8_matches['match_id'].unique().tolist()"
   ]
  },
  {
   "cell_type": "code",
   "execution_count": 24,
   "metadata": {},
   "outputs": [],
   "source": [
    "# Get all matches that we're interested in from the opendota endpoint\n",
    "matches_endpoint = \"https://api.opendota.com/api/matches/\"\n",
    "\n",
    "match_dicts = []\n",
    "for match_id in match_ids:\n",
    "    r = requests.get(matches_endpoint+str(match_id))\n",
    "    match_dict = r.json()\n",
    "    match_dicts.append(match_dict)\n",
    "    time.sleep(1) # 1s sleep cause got 60 per min rate limit  \n",
    "    \n",
    "# Save the match_dicts file  \n",
    "with open('data/data.json', 'w') as file:\n",
    "     file.write(json.dumps(match_dicts))"
   ]
  },
  {
   "cell_type": "code",
   "execution_count": 25,
   "metadata": {},
   "outputs": [],
   "source": [
    "# Get basic info on DOTA 2 heroes e.g. id\n",
    "heroes_endpoint = \"https://api.opendota.com/api/heroes/\"\n",
    "r = requests.get(heroes_endpoint)\n",
    "heroes= r.json()\n",
    "\n",
    "# Prep for future use\n",
    "basic_heroes_data = []\n",
    "for hero in heroes:\n",
    "    data = {\n",
    "        'id':hero['id'],\n",
    "        'name':hero['name'],\n",
    "        'localized_name':hero['localized_name'],\n",
    "        'primary_attr':hero['primary_attr'],\n",
    "        'attack_type':hero['attack_type'],\n",
    "        'roles':';'.join(hero['roles']).lower(),\n",
    "    }\n",
    "    basic_heroes_data.append(data)  \n",
    "\n",
    "basic_heroes_df = pd.DataFrame(basic_heroes_data)\n",
    "dummified_roles = basic_heroes_df['roles'].str.get_dummies(sep=';')\n",
    "basic_heroes_df = pd.concat([basic_heroes_df, dummified_roles],axis=1)\n",
    "\n",
    "basic_heroes_df.to_csv('data/basic_heroes.csv',index=False)"
   ]
  },
  {
   "cell_type": "markdown",
   "metadata": {},
   "source": [
    "# Prep data for Qlik Sense"
   ]
  },
  {
   "cell_type": "code",
   "execution_count": 4,
   "metadata": {},
   "outputs": [],
   "source": [
    "# Load match data from file, instead of calling from API\n",
    "with open('data/data.json') as f:\n",
    "    match_dicts = json.load(f)"
   ]
  },
  {
   "cell_type": "code",
   "execution_count": 5,
   "metadata": {},
   "outputs": [],
   "source": [
    "weird_game_id = 3889571850 # This game has lots of missing data for some reason.\n",
    "match_dicts = [match for match in match_dicts if match['match_id'] != weird_game_id]"
   ]
  },
  {
   "cell_type": "code",
   "execution_count": 5,
   "metadata": {
    "scrolled": true
   },
   "outputs": [],
   "source": [
    "# Prep basic match data that we're interested in\n",
    "basic_match_data = []\n",
    "for match in match_dicts:\n",
    "    data = {\n",
    "        'match_id':match['match_id'],\n",
    "        'duration':match['duration'],\n",
    "        'first_blood_time':match['first_blood_time'],\n",
    "        'radiant_score':match['radiant_score'],\n",
    "        'radiant_win':match['radiant_win'],\n",
    "        'radiant_team_id':match['radiant_team']['team_id'],\n",
    "        'radiant_team_name':match['radiant_team']['name'],\n",
    "        'dire_score':match['dire_score'],\n",
    "        'dire_team_id':match['dire_team']['team_id'],\n",
    "        'dire_team_name':match['dire_team']['name'],\n",
    "    }\n",
    "    basic_match_data.append(data)\n",
    "        \n",
    "basic_match_df = pd.DataFrame(basic_match_data)\n",
    "basic_match_df.to_csv('data/basic_match.csv',index=False,encoding='utf-8')"
   ]
  },
  {
   "cell_type": "code",
   "execution_count": 6,
   "metadata": {},
   "outputs": [],
   "source": [
    "# Prep data for the drafts for each match \n",
    "draft_data = []\n",
    "for match in match_dicts:\n",
    "    for draft in match['draft_timings']:\n",
    "        data = {\n",
    "            'match_id':match['match_id'],\n",
    "            'order':draft['order'],\n",
    "            'pick':draft['pick'],\n",
    "            'active_team':draft['active_team'],\n",
    "            'hero_id':draft['hero_id'],\n",
    "            'player_slot':draft['player_slot'],\n",
    "            'extra_time':draft['extra_time'],\n",
    "            'total_time_taken':draft['total_time_taken']\n",
    "            }\n",
    "        draft_data.append(data)\n",
    "\n",
    "drafts_df = pd.DataFrame(draft_data)\n",
    "drafts_df.to_csv('data/drafts.csv',index=False)  "
   ]
  },
  {
   "cell_type": "code",
   "execution_count": 7,
   "metadata": {},
   "outputs": [],
   "source": [
    "# Prep match data for radiant gold and xp advantage that we're interested in\n",
    "radiant_gold_and_xp_adv_df = pd.DataFrame()\n",
    "for match in match_dicts:\n",
    "    match_id = match['match_id']\n",
    "    d = pd.DataFrame.from_dict(\n",
    "        dict([('minute', list(np.arange(1,len(match['radiant_gold_adv'])+1))),\n",
    "              ('radiant_gold_adv', match['radiant_gold_adv']),\n",
    "              ('radiant_xp_adv', match['radiant_xp_adv'])\n",
    "             ]))\n",
    "    d['match_id'] = match_id\n",
    "    radiant_gold_and_xp_adv_df=radiant_gold_and_xp_adv_df.append(d,ignore_index=True)\n",
    "    \n",
    "radiant_gold_and_xp_adv_df.to_csv('data/radiant_gold_and_xp_adv.csv',index=False)"
   ]
  },
  {
   "cell_type": "code",
   "execution_count": 8,
   "metadata": {},
   "outputs": [],
   "source": [
    "# Prep objectives data that we're interested in\n",
    "objectives_data = []\n",
    "for match in match_dicts:\n",
    "    match_id = match['match_id']\n",
    "    objectives = [dict(objective, **{'match_id':match_id}) for objective in match['objectives']]\n",
    "    objectives_data+=objectives\n",
    "    \n",
    "objectives_df = pd.DataFrame(objectives_data)\n",
    "objectives_df.to_csv('data/objectives.csv',index=False)"
   ]
  },
  {
   "cell_type": "code",
   "execution_count": 9,
   "metadata": {
    "scrolled": true
   },
   "outputs": [],
   "source": [
    "# Prep team fight data that we're interested in\n",
    "teamfights_data = []\n",
    "for match in match_dicts:\n",
    "    for teamfight in match['teamfights']:\n",
    "        data = {\n",
    "            'match_id':match['match_id'],\n",
    "            'start':teamfight['start'],\n",
    "            'end':teamfight['end'],\n",
    "            'last_death':teamfight['last_death'],\n",
    "        }\n",
    "        teamfights_data.append(data)\n",
    "\n",
    "teamfights_df = pd.DataFrame(teamfights_data)\n",
    "teamfights_df.to_csv('data/teamfights.csv',index=False)  "
   ]
  },
  {
   "cell_type": "code",
   "execution_count": 10,
   "metadata": {
    "scrolled": true
   },
   "outputs": [],
   "source": [
    "# Prep basic players' data that we're interested in\n",
    "basic_player_data = []\n",
    "for match in match_dicts:\n",
    "    for player in match['players']:\n",
    "        data = {\n",
    "            'account_id':player['account_id'],\n",
    "            'match_id':player['match_id'],\n",
    "            'camps_stacked':player['camps_stacked'],\n",
    "            'creeps_stacked':player['creeps_stacked'],\n",
    "            'deaths':player['deaths'],\n",
    "            'denies':player['denies'],\n",
    "            'gold_per_min':player['gold_per_min'],\n",
    "            'hero_damage':player['hero_damage'],\n",
    "            'hero_healing':player['hero_healing'],\n",
    "            'hero_id':player['hero_id'],\n",
    "            'kills':player['kills'],\n",
    "            'rune_pickups':player['rune_pickups'],\n",
    "            'teamfight_participation':player['teamfight_participation'],\n",
    "            'tower_damage':player['tower_damage'],\n",
    "            'xp_per_min':player['xp_per_min'],\n",
    "            'win':player['win'],\n",
    "            'total_gold':player['total_gold'],\n",
    "            'total_xp':player['total_xp'],\n",
    "            #'kills_per_min':player['kills_per_min'],\n",
    "            'kda':player['kda'],\n",
    "            'neutral_kills':player['neutral_kills'],\n",
    "            'tower_kills':player['tower_kills'],\n",
    "            'courier_kills':player['courier_kills'],\n",
    "            'lane_kills':player['lane_kills'],\n",
    "            'hero_kills':player['hero_kills'],\n",
    "            'observer_kills':player['observer_kills'],\n",
    "            'sentry_kills':player['sentry_kills'],\n",
    "            'roshan_kills':player['roshan_kills'],\n",
    "            'necronomicon_kills':player['necronomicon_kills'],\n",
    "            'ancient_kills':player['ancient_kills'],\n",
    "            'buyback_count':player['buyback_count'],\n",
    "            'observer_uses':player['observer_uses'],\n",
    "            'sentry_uses':player['sentry_uses'],\n",
    "            'lane_efficiency_pct':player['lane_efficiency_pct'],\n",
    "            'lane':player['lane'],\n",
    "            'lane_role':player['lane_role'],\n",
    "            'is_roaming':player['is_roaming'],\n",
    "            'player_slot':player['player_slot'],\n",
    "        }\n",
    "        basic_player_data.append(data)\n",
    "\n",
    "basic_player_df = pd.DataFrame(basic_player_data)\n",
    "basic_player_df['player_side'] = basic_player_df['player_slot'].apply(lambda x: 'radiant' if x<=127 else 'dire')\n",
    "basic_player_df.to_csv('data/basic_player.csv',index=False)"
   ]
  },
  {
   "cell_type": "code",
   "execution_count": 11,
   "metadata": {
    "scrolled": true
   },
   "outputs": [],
   "source": [
    "# Prep Obs and sentry ward data\n",
    "wards_data = []\n",
    "for match in match_dicts:\n",
    "    match_id = match['match_id']\n",
    "    \n",
    "    for player in match['players']:    \n",
    "        account_id = player['account_id']\n",
    "        \n",
    "        for wards in ['obs_log','obs_left_log','sen_log','sen_left_log']:\n",
    "            log = [dict(ward, **{'match_id':match_id,\n",
    "                                 'account_id':account_id}) for ward in player[wards]]\n",
    "            wards_data+=log\n",
    "    \n",
    "wards_df = pd.DataFrame(wards_data)\n",
    "wards_df.drop(['key'],axis=1,inplace=True)\n",
    "wards_df.to_csv('data/wards.csv',index=False)"
   ]
  },
  {
   "cell_type": "code",
   "execution_count": null,
   "metadata": {
    "scrolled": true
   },
   "outputs": [],
   "source": [
    "# Prep lane_pos data\n",
    "lane_pos_df = pd.DataFrame()\n",
    "\n",
    "for match in match_dicts:    \n",
    "    for player in match['players']:    \n",
    "        for x,y_key in player['lane_pos'].items():\n",
    "            d = pd.DataFrame(\n",
    "                [[x,y,v] for y,v in y_key.items()],\n",
    "                columns=['x','y','frequency'])\n",
    "            d['match_id'] = match['match_id']\n",
    "            d['account_id'] = player['account_id']\n",
    "            \n",
    "            lane_pos_df=lane_pos_df.append(d,ignore_index=True)\n",
    "\n",
    "lane_pos_df.to_csv('data/lane_pos.csv',index=False)"
   ]
  }
 ],
 "metadata": {
  "kernelspec": {
   "display_name": "Python 3",
   "language": "python",
   "name": "python3"
  },
  "language_info": {
   "codemirror_mode": {
    "name": "ipython",
    "version": 3
   },
   "file_extension": ".py",
   "mimetype": "text/x-python",
   "name": "python",
   "nbconvert_exporter": "python",
   "pygments_lexer": "ipython3",
   "version": "3.6.5"
  }
 },
 "nbformat": 4,
 "nbformat_minor": 2
}
