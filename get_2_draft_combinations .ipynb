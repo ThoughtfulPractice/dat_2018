{
 "cells": [
  {
   "cell_type": "code",
   "execution_count": 11,
   "metadata": {},
   "outputs": [],
   "source": [
    "#import libraries \n",
    "import pandas as pd \n",
    "import numpy as np\n",
    "import itertools as it\n",
    "import ast"
   ]
  },
  {
   "cell_type": "code",
   "execution_count": 2,
   "metadata": {},
   "outputs": [],
   "source": [
    "df = pd.read_csv('data/drafts.csv') #import drafts file \n",
    "df = df[df.pick == True] #drop false picks\n",
    "df = df.drop(['extra_time', 'order', 'player_slot', 'total_time_taken', 'pick'], axis=1) #drop unnecessary columns"
   ]
  },
  {
   "cell_type": "code",
   "execution_count": 3,
   "metadata": {},
   "outputs": [],
   "source": [
    "heroes_df = pd.read_csv('data/basic_heroes.csv') #import heroes file\n",
    "heroes_df = heroes_df [['id','localized_name']].set_index('id')\n",
    "heroes_dict=heroes_df.to_dict() #create dctionary of heroes\n",
    "heroes_dict = heroes_dict['localized_name']"
   ]
  },
  {
   "cell_type": "code",
   "execution_count": 4,
   "metadata": {},
   "outputs": [],
   "source": [
    "df = df.replace({\"hero_id\": heroes_dict}) #replace hero_id with hero names"
   ]
  },
  {
   "cell_type": "code",
   "execution_count": 5,
   "metadata": {},
   "outputs": [],
   "source": [
    "match_list = set(df.match_id.tolist()) #list all unique match IDs"
   ]
  },
  {
   "cell_type": "code",
   "execution_count": 6,
   "metadata": {},
   "outputs": [],
   "source": [
    "teams = (2,3) #list all unique team_id "
   ]
  },
  {
   "cell_type": "code",
   "execution_count": 7,
   "metadata": {},
   "outputs": [],
   "source": [
    "complete_combi_list = list()\n",
    "\n",
    "for match in match_list: #iterate over each match and each team to get combi list of heros used\n",
    "    for team in teams:\n",
    "        filtered = df[(df.match_id == match) & (df.active_team == team)]\n",
    "        hero_list = filtered.hero_id.values.tolist()\n",
    "        combi_list = list(it.combinations(hero_list,2))\n",
    "        complete_combi_list.extend(combi_list)"
   ]
  },
  {
   "cell_type": "code",
   "execution_count": 8,
   "metadata": {},
   "outputs": [],
   "source": [
    "complete_combi_list2 = [list(elem) for elem in complete_combi_list] #convert list of tuples to list of lists "
   ]
  },
  {
   "cell_type": "code",
   "execution_count": 9,
   "metadata": {},
   "outputs": [],
   "source": [
    "#sort lists within list \n",
    "for i in complete_combi_list2: \n",
    "    i.sort()"
   ]
  },
  {
   "cell_type": "code",
   "execution_count": 12,
   "metadata": {
    "scrolled": true
   },
   "outputs": [],
   "source": [
    "df2 = pd.Series(complete_combi_list2, name = 'combi').astype(str).reset_index() #convert \n",
    "df2.columns= ['count','combination']\n",
    "df2 = df2.groupby(['combination']).count().sort_values('count')\n",
    "\n",
    "df2=df2.reset_index()\n",
    "df2['hero1']=df2['combination'].apply(lambda x: ast.literal_eval(x)[0])\n",
    "df2['hero2']=df2['combination'].apply(lambda x: ast.literal_eval(x)[1])\n",
    "df2.sort_values(['hero1','hero2'],inplace=True)"
   ]
  },
  {
   "cell_type": "code",
   "execution_count": 13,
   "metadata": {},
   "outputs": [],
   "source": [
    "df2 \n",
    "df2.to_csv('output/combinations.csv')"
   ]
  }
 ],
 "metadata": {
  "kernelspec": {
   "display_name": "Python 3",
   "language": "python",
   "name": "python3"
  },
  "language_info": {
   "codemirror_mode": {
    "name": "ipython",
    "version": 2
   },
   "file_extension": ".py",
   "mimetype": "text/x-python",
   "name": "python",
   "nbconvert_exporter": "python",
   "pygments_lexer": "ipython2",
   "version": "2.7.14"
  }
 },
 "nbformat": 4,
 "nbformat_minor": 2
}
